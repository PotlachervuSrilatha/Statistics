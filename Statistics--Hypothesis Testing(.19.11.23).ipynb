{
 "cells": [
  {
   "cell_type": "markdown",
   "id": "0b2d5de9",
   "metadata": {},
   "source": [
    "## Z-Test"
   ]
  },
  {
   "cell_type": "markdown",
   "id": "8172aa02",
   "metadata": {},
   "source": [
    "1.\tThe boys in the class are having mean weight= 9.5kg\n",
    "Standard deviation=1.1kg\n",
    "Calculate the percentage(%) of the boys in the following:\n",
    "1.\tWeight less than 8.4kg\n",
    "2.\tBetween 7.3kg and 11.7kg\n",
    "3.\tMore than 12.8\n"
   ]
  },
  {
   "cell_type": "code",
   "execution_count": 2,
   "id": "c05461c8",
   "metadata": {},
   "outputs": [],
   "source": [
    "import scipy.stats as stats"
   ]
  },
  {
   "cell_type": "code",
   "execution_count": 3,
   "id": "4b9b5b68",
   "metadata": {},
   "outputs": [
    {
     "data": {
      "text/plain": [
       "0.15865525393145719"
      ]
     },
     "execution_count": 3,
     "metadata": {},
     "output_type": "execute_result"
    }
   ],
   "source": [
    "stats.norm.cdf(8.4,loc=9.5,scale=1.1)"
   ]
  },
  {
   "cell_type": "code",
   "execution_count": 4,
   "id": "8f7c30c7",
   "metadata": {},
   "outputs": [
    {
     "data": {
      "text/plain": [
       "0.022750131948179195"
      ]
     },
     "execution_count": 4,
     "metadata": {},
     "output_type": "execute_result"
    }
   ],
   "source": [
    "p1= stats.norm.cdf(7.3,loc=9.5,scale=1.1)\n",
    "p1"
   ]
  },
  {
   "cell_type": "code",
   "execution_count": 5,
   "id": "69de32de",
   "metadata": {},
   "outputs": [
    {
     "data": {
      "text/plain": [
       "0.9772498680518208"
      ]
     },
     "execution_count": 5,
     "metadata": {},
     "output_type": "execute_result"
    }
   ],
   "source": [
    "p2= stats.norm.cdf(11.7,loc=9.5,scale=1.1)\n",
    "p2"
   ]
  },
  {
   "cell_type": "code",
   "execution_count": 6,
   "id": "2e065f3d",
   "metadata": {},
   "outputs": [
    {
     "data": {
      "text/plain": [
       "0.9544997361036416"
      ]
     },
     "execution_count": 6,
     "metadata": {},
     "output_type": "execute_result"
    }
   ],
   "source": [
    "p2-p1"
   ]
  },
  {
   "cell_type": "code",
   "execution_count": 7,
   "id": "d28c218e",
   "metadata": {},
   "outputs": [
    {
     "data": {
      "text/plain": [
       "0.0013498980316301035"
      ]
     },
     "execution_count": 7,
     "metadata": {},
     "output_type": "execute_result"
    }
   ],
   "source": [
    "1-stats.norm.cdf(12.8,loc=9.5,scale=1.1)"
   ]
  },
  {
   "cell_type": "markdown",
   "id": "2604ee2d",
   "metadata": {},
   "source": [
    "## Central Limit Theorem"
   ]
  },
  {
   "cell_type": "markdown",
   "id": "dd0abb5a",
   "metadata": {},
   "source": [
    "2.\tChild plays for 2 hours when active with a standard deviation of 0.7hrs . the school class teacher wants to plan a trip with 50 children. As a situation .what is the probability that the children will play for more than 2.2 hours."
   ]
  },
  {
   "cell_type": "code",
   "execution_count": 8,
   "id": "95ca10a2",
   "metadata": {},
   "outputs": [],
   "source": [
    "import numpy as np"
   ]
  },
  {
   "cell_type": "code",
   "execution_count": 9,
   "id": "a4fed0c8",
   "metadata": {},
   "outputs": [
    {
     "data": {
      "text/plain": [
       "0.09899494936611665"
      ]
     },
     "execution_count": 9,
     "metadata": {},
     "output_type": "execute_result"
    }
   ],
   "source": [
    "s= 0.7/np.sqrt(50)\n",
    "s"
   ]
  },
  {
   "cell_type": "code",
   "execution_count": 10,
   "id": "4d9588f5",
   "metadata": {},
   "outputs": [
    {
     "data": {
      "text/plain": [
       "0.021675875630431274"
      ]
     },
     "execution_count": 10,
     "metadata": {},
     "output_type": "execute_result"
    }
   ],
   "source": [
    "1-stats.norm.cdf(2.2,loc=2,scale=s)"
   ]
  },
  {
   "cell_type": "markdown",
   "id": "fca587d2",
   "metadata": {},
   "source": [
    "          The average age of marriage is 25 for women and 27 for men in the US. If the standard deviation of women is 4 years, what is the probability that a random selection of 32 women have an average age at marriage between 26 to27?"
   ]
  },
  {
   "cell_type": "code",
   "execution_count": 11,
   "id": "251cfec4",
   "metadata": {},
   "outputs": [
    {
     "data": {
      "text/plain": [
       "0.7071067811865475"
      ]
     },
     "execution_count": 11,
     "metadata": {},
     "output_type": "execute_result"
    }
   ],
   "source": [
    "s= 4/np.sqrt(32)\n",
    "s"
   ]
  },
  {
   "cell_type": "code",
   "execution_count": 12,
   "id": "a87a95f2",
   "metadata": {},
   "outputs": [
    {
     "name": "stdout",
     "output_type": "stream",
     "text": [
      "0.9213503964748575 0.9976611325094764\n"
     ]
    }
   ],
   "source": [
    "p1= stats.norm.cdf(26,loc=25,scale=s)\n",
    "p2= stats.norm.cdf(27,loc=25,scale=s)\n",
    "print(p1,p2)"
   ]
  },
  {
   "cell_type": "code",
   "execution_count": 13,
   "id": "d279abf2",
   "metadata": {},
   "outputs": [
    {
     "data": {
      "text/plain": [
       "0.07631073603461891"
      ]
     },
     "execution_count": 13,
     "metadata": {},
     "output_type": "execute_result"
    }
   ],
   "source": [
    "p2-p1"
   ]
  },
  {
   "cell_type": "markdown",
   "id": "f0370dcb",
   "metadata": {},
   "source": [
    "## Z-test with CI"
   ]
  },
  {
   "cell_type": "markdown",
   "id": "63d9cc84",
   "metadata": {},
   "source": [
    "1.\tScores on an exam are normally distributed with a population standard deviation=5.6. a random sample of 40 scores on the exam has a mean of 32.\n",
    "Estimate the population mean with\n",
    "a)\t80% confidence \n",
    "b)\t90% confidence\n",
    "c)\t98 confidence\n"
   ]
  },
  {
   "cell_type": "code",
   "execution_count": 14,
   "id": "7859eb26",
   "metadata": {},
   "outputs": [
    {
     "data": {
      "text/plain": [
       "33.13513118889404"
      ]
     },
     "execution_count": 14,
     "metadata": {},
     "output_type": "execute_result"
    }
   ],
   "source": [
    "## Confidence with 80%\n",
    "(32+((1.282)*(5.6/np.sqrt(40))))"
   ]
  },
  {
   "cell_type": "code",
   "execution_count": 15,
   "id": "1d621c4d",
   "metadata": {},
   "outputs": [
    {
     "data": {
      "text/plain": [
       "30.864868811105957"
      ]
     },
     "execution_count": 15,
     "metadata": {},
     "output_type": "execute_result"
    }
   ],
   "source": [
    "(32-((1.282)*(5.6/np.sqrt(40))))"
   ]
  },
  {
   "cell_type": "code",
   "execution_count": 18,
   "id": "bbe1240b",
   "metadata": {},
   "outputs": [],
   "source": [
    "## confidence interval 90%"
   ]
  },
  {
   "cell_type": "code",
   "execution_count": 19,
   "id": "7f01d67e",
   "metadata": {},
   "outputs": [
    {
     "data": {
      "text/plain": [
       "33.45654509027356"
      ]
     },
     "execution_count": 19,
     "metadata": {},
     "output_type": "execute_result"
    }
   ],
   "source": [
    "(32+((1.645)*(5.6/np.sqrt(40))))"
   ]
  },
  {
   "cell_type": "code",
   "execution_count": 20,
   "id": "62023344",
   "metadata": {},
   "outputs": [
    {
     "data": {
      "text/plain": [
       "30.543454909726446"
      ]
     },
     "execution_count": 20,
     "metadata": {},
     "output_type": "execute_result"
    }
   ],
   "source": [
    "(32-((1.645)*(5.6/np.sqrt(40))))"
   ]
  },
  {
   "cell_type": "code",
   "execution_count": 21,
   "id": "49e65b51",
   "metadata": {},
   "outputs": [],
   "source": [
    "## confidence interval of 98%"
   ]
  },
  {
   "cell_type": "code",
   "execution_count": 22,
   "id": "00da1f22",
   "metadata": {},
   "outputs": [
    {
     "data": {
      "text/plain": [
       "34.05952819451446"
      ]
     },
     "execution_count": 22,
     "metadata": {},
     "output_type": "execute_result"
    }
   ],
   "source": [
    "(32+((2.326)*(5.6/np.sqrt(40))))"
   ]
  },
  {
   "cell_type": "code",
   "execution_count": 23,
   "id": "5388891e",
   "metadata": {},
   "outputs": [
    {
     "data": {
      "text/plain": [
       "29.940471805485537"
      ]
     },
     "execution_count": 23,
     "metadata": {},
     "output_type": "execute_result"
    }
   ],
   "source": [
    "(32-((2.326)*(5.6/np.sqrt(40))))"
   ]
  },
  {
   "cell_type": "markdown",
   "id": "30e71533",
   "metadata": {},
   "source": [
    "## 1-t test"
   ]
  },
  {
   "cell_type": "code",
   "execution_count": 33,
   "id": "d0250085",
   "metadata": {},
   "outputs": [],
   "source": [
    "pop_data=stats.norm.rvs(size=1000, loc=50, scale=60)"
   ]
  },
  {
   "cell_type": "code",
   "execution_count": 38,
   "id": "721a62bd",
   "metadata": {},
   "outputs": [
    {
     "data": {
      "text/plain": [
       "48.54071706349476"
      ]
     },
     "execution_count": 38,
     "metadata": {},
     "output_type": "execute_result"
    }
   ],
   "source": [
    "pop_data.mean()"
   ]
  },
  {
   "cell_type": "code",
   "execution_count": 40,
   "id": "0b743707",
   "metadata": {},
   "outputs": [],
   "source": [
    "sample_data= stats.norm.rvs(size=100, loc=50, scale=50)"
   ]
  },
  {
   "cell_type": "code",
   "execution_count": 44,
   "id": "ce70e00c",
   "metadata": {},
   "outputs": [
    {
     "data": {
      "text/plain": [
       "51.89313507456468"
      ]
     },
     "execution_count": 44,
     "metadata": {},
     "output_type": "execute_result"
    }
   ],
   "source": [
    "sample_data.std()"
   ]
  },
  {
   "cell_type": "code",
   "execution_count": 42,
   "id": "91a18d7d",
   "metadata": {},
   "outputs": [
    {
     "data": {
      "text/plain": [
       "TtestResult(statistic=-0.706304517007885, pvalue=0.48165772304589016, df=99)"
      ]
     },
     "execution_count": 42,
     "metadata": {},
     "output_type": "execute_result"
    }
   ],
   "source": [
    "stats.ttest_1samp(sample_data,popmean=pop_data.mean())"
   ]
  },
  {
   "cell_type": "code",
   "execution_count": 45,
   "id": "5d35d77d",
   "metadata": {},
   "outputs": [],
   "source": [
    "tstats= (44.85-48.51)/(51.89/np.sqrt(100))"
   ]
  },
  {
   "cell_type": "code",
   "execution_count": 46,
   "id": "84e00f59",
   "metadata": {},
   "outputs": [
    {
     "data": {
      "text/plain": [
       "-0.7053382154557711"
      ]
     },
     "execution_count": 46,
     "metadata": {},
     "output_type": "execute_result"
    }
   ],
   "source": [
    "tstats"
   ]
  },
  {
   "cell_type": "markdown",
   "id": "bfcde642",
   "metadata": {},
   "source": [
    "## t test with CI"
   ]
  },
  {
   "cell_type": "markdown",
   "id": "b52806c4",
   "metadata": {},
   "source": [
    "1.\tThe average weight of 20 student in a certain school was found to be 165lbs with a standard deviation of 4.5. (a) construct 95% confidence interval for the population mean (b) determine the EBM for population mean."
   ]
  },
  {
   "cell_type": "code",
   "execution_count": 48,
   "id": "20c2b156",
   "metadata": {},
   "outputs": [
    {
     "data": {
      "text/plain": [
       "162.89395937539183"
      ]
     },
     "execution_count": 48,
     "metadata": {},
     "output_type": "execute_result"
    }
   ],
   "source": [
    "## a) POP mean with confidence interval 95%\n",
    "lower_interval= 165-(2.093*(4.5/np.sqrt(20)))\n",
    "lower_interval"
   ]
  },
  {
   "cell_type": "code",
   "execution_count": 49,
   "id": "5f98b8ed",
   "metadata": {},
   "outputs": [
    {
     "data": {
      "text/plain": [
       "167.10604062460817"
      ]
     },
     "execution_count": 49,
     "metadata": {},
     "output_type": "execute_result"
    }
   ],
   "source": [
    "upper_interval= 165+(2.093*(4.5/np.sqrt(20)))\n",
    "upper_interval"
   ]
  },
  {
   "cell_type": "code",
   "execution_count": 51,
   "id": "152ec835",
   "metadata": {},
   "outputs": [
    {
     "data": {
      "text/plain": [
       "2.106040624608177"
      ]
     },
     "execution_count": 51,
     "metadata": {},
     "output_type": "execute_result"
    }
   ],
   "source": [
    "## b) EBM\n",
    "EBM= 2.093*(4.5/np.sqrt(20))\n",
    "EBM"
   ]
  },
  {
   "cell_type": "markdown",
   "id": "f981c5a8",
   "metadata": {},
   "source": [
    "## Task:\n",
    "1.\tA random sample of 15 observation has a mean of 20 and standard deviation of 3.5. To estimate population mean with 95% confidence level. Find the i) Margin of Error ii) confidence interval."
   ]
  },
  {
   "cell_type": "markdown",
   "id": "dfc5dd66",
   "metadata": {},
   "source": [
    "## t test--Independent "
   ]
  },
  {
   "cell_type": "markdown",
   "id": "48d5c3bf",
   "metadata": {},
   "source": [
    "A statistics teacher wants to compare his two classes to see if they performed any differently on the tests he gave that semester. Class A had 25 students with  an average score of 70, standard deviation 15. Class B had 20 students with an average score of 74 , standard deviation 25. Using alpha 0.05 did these two classes perform differently on the tests?."
   ]
  },
  {
   "cell_type": "code",
   "execution_count": 52,
   "id": "8e529172",
   "metadata": {},
   "outputs": [],
   "source": [
    "## n1=25,n2=20\n",
    "## x1bar= 70, x2bar=74\n",
    "## s1= 15,s2=25"
   ]
  },
  {
   "cell_type": "code",
   "execution_count": null,
   "id": "560d2010",
   "metadata": {},
   "outputs": [],
   "source": []
  }
 ],
 "metadata": {
  "kernelspec": {
   "display_name": "Python 3 (ipykernel)",
   "language": "python",
   "name": "python3"
  },
  "language_info": {
   "codemirror_mode": {
    "name": "ipython",
    "version": 3
   },
   "file_extension": ".py",
   "mimetype": "text/x-python",
   "name": "python",
   "nbconvert_exporter": "python",
   "pygments_lexer": "ipython3",
   "version": "3.11.4"
  }
 },
 "nbformat": 4,
 "nbformat_minor": 5
}
